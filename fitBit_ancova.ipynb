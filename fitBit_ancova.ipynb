{
 "cells": [
  {
   "cell_type": "markdown",
   "metadata": {},
   "source": [
    "# Overview: How does sleep correlate with assessment scores when exercise is used as a covariate?\n",
    "Notebook by Lindsey M. Williams (lmw192@mit.edu)"
   ]
  },
  {
   "cell_type": "markdown",
   "metadata": {},
   "source": [
    "### [Part 1:](#part_1) Overall Correlations\n",
    "1) Create a new dataframe (df_ancovaData_pt1) containing all columns of interest from various dataframes.\n",
    "\n",
    "2) Export dataframe as csv (ancovaData_pt1.csv).\n",
    "\n",
    "3) csv files can then be opened in RStudio to run various ANCOVA tests to assess correlations between various measures of sleep and **OVERALL** assessemnt scores (adding up scores of all assessments) with exercise as a covariate.\n",
    "\n",
    "### [Part 2:](#part_2) \"Relevant Sleep\" Correlations\n",
    "As opposed to part 1, part 2 of this analysis will assess how ** sleep during the week leading up to an exam** (the \"relevant sleep\") correlates with the corresponding **WEEKLY** assessment scores.\n",
    "\n",
    "1) Create a new dataframe (df_ancovaData_pt2) containing all columns of interest from various dataframes where all averages for sleep and exersice measures only contain data collected in the week leading up to the assessment.\n",
    "\n",
    "2) Export dataframe as csv (ancovaData_pt2.csv)\n",
    "\n",
    "3) csv files can then be opened in RStudio to run varous  ANCOVA tests to assess correlations between various measures of sleep and **WEEKLY** assessemnt scores (adding up scores of all assessments) with exercise as a covariate.\n",
    "\n",
    "### [Part 3:](#part_3) Group (1 & 2) Differences (T-Tests)\n",
    "\n",
    "### [Part 4:](#part_4) Gender Differences (T-Tests)"
   ]
  },
  {
   "cell_type": "markdown",
   "metadata": {},
   "source": [
    "## Setup"
   ]
  },
  {
   "cell_type": "code",
   "execution_count": 1,
   "metadata": {
    "collapsed": true
   },
   "outputs": [],
   "source": [
    "%matplotlib inline\n",
    "\n",
    "import matplotlib.pyplot as plt\n",
    "import numpy as np\n",
    "import pandas as pd\n",
    "import seaborn as sns\n",
    "import usefulMindBodyAnalysisTools as myTools # Custom functions from old FitBit Analsis (by Lindsey)\n",
    "\n",
    "import utils\n",
    "\n",
    "sns.set_context('notebook', font_scale=1.5)\n",
    "\n",
    "df_roster_original = utils.load_roster()\n",
    "df_sleep = utils.load_sleep_data()\n",
    "df_mult = utils.load_mult_measures_data()\n",
    "df_hr = utils.load_heart_rate_data()\n",
    "\n",
    "# Make copies of dateframes to clean-up for easier use\n",
    "df_roster_firstClean = df_roster_original.copy()"
   ]
  },
  {
   "cell_type": "markdown",
   "metadata": {},
   "source": [
    "## Data Cleaning"
   ]
  },
  {
   "cell_type": "markdown",
   "metadata": {
    "collapsed": true
   },
   "source": [
    "### Cleaning df_roster"
   ]
  },
  {
   "cell_type": "code",
   "execution_count": 2,
   "metadata": {},
   "outputs": [
    {
     "data": {
      "text/html": [
       "<div>\n",
       "<style>\n",
       "    .dataframe thead tr:only-child th {\n",
       "        text-align: right;\n",
       "    }\n",
       "\n",
       "    .dataframe thead th {\n",
       "        text-align: left;\n",
       "    }\n",
       "\n",
       "    .dataframe tbody tr th {\n",
       "        vertical-align: top;\n",
       "    }\n",
       "</style>\n",
       "<table border=\"1\" class=\"dataframe\">\n",
       "  <thead>\n",
       "    <tr style=\"text-align: right;\">\n",
       "      <th></th>\n",
       "      <th>year</th>\n",
       "      <th>subjectID</th>\n",
       "      <th>group</th>\n",
       "      <th>Completed_PE_</th>\n",
       "      <th>Age</th>\n",
       "      <th>Gender</th>\n",
       "      <th>How_many_days_do_you_exercise_1</th>\n",
       "      <th>How_many_hrs_do__you_exercise_per_day_1</th>\n",
       "      <th>What_kind_of_exercise_1</th>\n",
       "      <th>stress_last_week_1</th>\n",
       "      <th>...</th>\n",
       "      <th>Quiz_3</th>\n",
       "      <th>Midterm_1</th>\n",
       "      <th>Quiz_4</th>\n",
       "      <th>Quiz_5</th>\n",
       "      <th>Quiz_6</th>\n",
       "      <th>Midterm_2</th>\n",
       "      <th>Quiz_7</th>\n",
       "      <th>Quiz_8</th>\n",
       "      <th>Midterm_3</th>\n",
       "      <th>overall_score</th>\n",
       "    </tr>\n",
       "    <tr>\n",
       "      <th>subjectID</th>\n",
       "      <th></th>\n",
       "      <th></th>\n",
       "      <th></th>\n",
       "      <th></th>\n",
       "      <th></th>\n",
       "      <th></th>\n",
       "      <th></th>\n",
       "      <th></th>\n",
       "      <th></th>\n",
       "      <th></th>\n",
       "      <th></th>\n",
       "      <th></th>\n",
       "      <th></th>\n",
       "      <th></th>\n",
       "      <th></th>\n",
       "      <th></th>\n",
       "      <th></th>\n",
       "      <th></th>\n",
       "      <th></th>\n",
       "      <th></th>\n",
       "      <th></th>\n",
       "    </tr>\n",
       "  </thead>\n",
       "  <tbody>\n",
       "    <tr>\n",
       "      <th>MBL001</th>\n",
       "      <td>1</td>\n",
       "      <td>MBL001</td>\n",
       "      <td>1</td>\n",
       "      <td>-</td>\n",
       "      <td>18.0</td>\n",
       "      <td>Female</td>\n",
       "      <td>2-4</td>\n",
       "      <td>1-2</td>\n",
       "      <td>cardio strength</td>\n",
       "      <td>low</td>\n",
       "      <td>...</td>\n",
       "      <td>5.5</td>\n",
       "      <td>57.5</td>\n",
       "      <td>8.0</td>\n",
       "      <td>10.0</td>\n",
       "      <td>9.0</td>\n",
       "      <td>85.5</td>\n",
       "      <td>9.5</td>\n",
       "      <td>8.0</td>\n",
       "      <td>79.0</td>\n",
       "      <td>281.5</td>\n",
       "    </tr>\n",
       "    <tr>\n",
       "      <th>MBL002</th>\n",
       "      <td>1</td>\n",
       "      <td>MBL002</td>\n",
       "      <td>1</td>\n",
       "      <td>-</td>\n",
       "      <td>18.0</td>\n",
       "      <td>Female</td>\n",
       "      <td>2-4</td>\n",
       "      <td>&lt;1</td>\n",
       "      <td>cardio flexibility</td>\n",
       "      <td>moderate</td>\n",
       "      <td>...</td>\n",
       "      <td>6.5</td>\n",
       "      <td>61.0</td>\n",
       "      <td>7.0</td>\n",
       "      <td>8.5</td>\n",
       "      <td>6.5</td>\n",
       "      <td>91.0</td>\n",
       "      <td>10.0</td>\n",
       "      <td>8.5</td>\n",
       "      <td>68.0</td>\n",
       "      <td>273.0</td>\n",
       "    </tr>\n",
       "    <tr>\n",
       "      <th>MBL003</th>\n",
       "      <td>1</td>\n",
       "      <td>MBL003</td>\n",
       "      <td>1</td>\n",
       "      <td>-</td>\n",
       "      <td>18.0</td>\n",
       "      <td>Female</td>\n",
       "      <td>5-7</td>\n",
       "      <td>&gt;2</td>\n",
       "      <td>cardio strength flexibility</td>\n",
       "      <td>moderate</td>\n",
       "      <td>...</td>\n",
       "      <td>8.5</td>\n",
       "      <td>55.5</td>\n",
       "      <td>6.0</td>\n",
       "      <td>8.5</td>\n",
       "      <td>6.5</td>\n",
       "      <td>80.0</td>\n",
       "      <td>5.0</td>\n",
       "      <td>5.0</td>\n",
       "      <td>48.5</td>\n",
       "      <td>229.5</td>\n",
       "    </tr>\n",
       "    <tr>\n",
       "      <th>MBL004</th>\n",
       "      <td>1</td>\n",
       "      <td>MBL004</td>\n",
       "      <td>2</td>\n",
       "      <td>yes</td>\n",
       "      <td>18.0</td>\n",
       "      <td>Female</td>\n",
       "      <td>2-4</td>\n",
       "      <td>1-2</td>\n",
       "      <td>cardio</td>\n",
       "      <td>low</td>\n",
       "      <td>...</td>\n",
       "      <td>7.5</td>\n",
       "      <td>89.0</td>\n",
       "      <td>6.5</td>\n",
       "      <td>9.0</td>\n",
       "      <td>9.5</td>\n",
       "      <td>70.0</td>\n",
       "      <td>8.0</td>\n",
       "      <td>10.0</td>\n",
       "      <td>71.5</td>\n",
       "      <td>285.5</td>\n",
       "    </tr>\n",
       "    <tr>\n",
       "      <th>MBL005</th>\n",
       "      <td>1</td>\n",
       "      <td>MBL005</td>\n",
       "      <td>2</td>\n",
       "      <td>yes</td>\n",
       "      <td>19.0</td>\n",
       "      <td>Female</td>\n",
       "      <td>2-4</td>\n",
       "      <td>1-2</td>\n",
       "      <td>cardio strength</td>\n",
       "      <td>moderate</td>\n",
       "      <td>...</td>\n",
       "      <td>7.5</td>\n",
       "      <td>60.5</td>\n",
       "      <td>9.0</td>\n",
       "      <td>8.5</td>\n",
       "      <td>10.0</td>\n",
       "      <td>86.0</td>\n",
       "      <td>5.5</td>\n",
       "      <td>0.0</td>\n",
       "      <td>85.0</td>\n",
       "      <td>281.5</td>\n",
       "    </tr>\n",
       "  </tbody>\n",
       "</table>\n",
       "<p>5 rows × 58 columns</p>\n",
       "</div>"
      ],
      "text/plain": [
       "           year subjectID  group Completed_PE_   Age  Gender  \\\n",
       "subjectID                                                      \n",
       "MBL001        1    MBL001      1             -  18.0  Female   \n",
       "MBL002        1    MBL002      1             -  18.0  Female   \n",
       "MBL003        1    MBL003      1             -  18.0  Female   \n",
       "MBL004        1    MBL004      2           yes  18.0  Female   \n",
       "MBL005        1    MBL005      2           yes  19.0  Female   \n",
       "\n",
       "          How_many_days_do_you_exercise_1  \\\n",
       "subjectID                                   \n",
       "MBL001                                2-4   \n",
       "MBL002                                2-4   \n",
       "MBL003                                5-7   \n",
       "MBL004                                2-4   \n",
       "MBL005                                2-4   \n",
       "\n",
       "          How_many_hrs_do__you_exercise_per_day_1  \\\n",
       "subjectID                                           \n",
       "MBL001                                        1-2   \n",
       "MBL002                                         <1   \n",
       "MBL003                                         >2   \n",
       "MBL004                                        1-2   \n",
       "MBL005                                        1-2   \n",
       "\n",
       "               What_kind_of_exercise_1 stress_last_week_1      ...       \\\n",
       "subjectID                                                      ...        \n",
       "MBL001                 cardio strength                low      ...        \n",
       "MBL002              cardio flexibility           moderate      ...        \n",
       "MBL003     cardio strength flexibility           moderate      ...        \n",
       "MBL004                          cardio                low      ...        \n",
       "MBL005                 cardio strength           moderate      ...        \n",
       "\n",
       "          Quiz_3 Midterm_1 Quiz_4 Quiz_5 Quiz_6 Midterm_2 Quiz_7 Quiz_8  \\\n",
       "subjectID                                                                 \n",
       "MBL001       5.5      57.5    8.0   10.0    9.0      85.5    9.5    8.0   \n",
       "MBL002       6.5      61.0    7.0    8.5    6.5      91.0   10.0    8.5   \n",
       "MBL003       8.5      55.5    6.0    8.5    6.5      80.0    5.0    5.0   \n",
       "MBL004       7.5      89.0    6.5    9.0    9.5      70.0    8.0   10.0   \n",
       "MBL005       7.5      60.5    9.0    8.5   10.0      86.0    5.5    0.0   \n",
       "\n",
       "          Midterm_3 overall_score  \n",
       "subjectID                          \n",
       "MBL001         79.0         281.5  \n",
       "MBL002         68.0         273.0  \n",
       "MBL003         48.5         229.5  \n",
       "MBL004         71.5         285.5  \n",
       "MBL005         85.0         281.5  \n",
       "\n",
       "[5 rows x 58 columns]"
      ]
     },
     "execution_count": 2,
     "metadata": {},
     "output_type": "execute_result"
    }
   ],
   "source": [
    "# Clean up column header = 'How_many_days_do_you_exercise_1'\n",
    "df_roster_firstClean.How_many_days_do_you_exercise_1.replace(to_replace=['4-Feb', '7-May', '10-Jul'],\n",
    "                                                  value=['2-4', '5-7', '7-10'],\n",
    "                                                  inplace=True)\n",
    "\n",
    "# Clean up column header = 'How_many_hrs_do__you_exercise_per_day_1'\n",
    "df_roster_firstClean.How_many_hrs_do__you_exercise_per_day_1.replace(to_replace=['2-Jan'],\n",
    "                                                  value=['1-2'],\n",
    "                                                  inplace=True)\n",
    "\n",
    "# Clean up column header = 'sleep_1' (How many hours do you sleep per night?)\n",
    "df_roster_firstClean.sleep_1.replace(to_replace=['7-Jun', '6-May', '6-8 hours','8-Jun', '8-Jul', \"usually 5-6 but 10 this week since I've been sick\",'About 6', '9-Aug', '9-Jun','6-7 but usually closer to 6- trying to fix that though', '6-7 hours', '9-Jul'],\n",
    "                                                  value=['6-7', '5-6', '6-8','6-8', '7-8', '5-6','6', '8-9', '6-9','6-7', '6-7', '7-9'],\n",
    "                                                  inplace=True)\n",
    "\n",
    "# Clean up column header = 'How_many_days_do_you_exercise_per_week_'\n",
    "df_roster_firstClean.How_many_days_do_you_exercise_per_week_.replace(to_replace=['Twice: the PE classes'],\n",
    "                                                  value=['2'],\n",
    "                                                  inplace=True)\n",
    "\n",
    "# Clean up column header = 'How_many_hours_do_you_exercise_on_a_typical_day_',\n",
    "df_roster_firstClean.How_many_hours_do_you_exercise_on_a_typical_day_.replace(to_replace=['Usually 30 minutes, but I recently injured my ankle', '2-Jan', '2.5 hour frisbee practice twice a week. other days not so much'],\n",
    "                                                  value=['<1', '1-2', '>2'],\n",
    "                                                  inplace=True)\n",
    "\n",
    "# Clean up column header = 'What_kind_of_exercise_1',\n",
    "df_roster_firstClean.What_kind_of_exercise_1.replace(to_replace=['Cardiovascular (brisk walking, biking, running, swimming, etc..), Strength (weight lifting, resistance training, etc..)', \n",
    "                                                            'Cardiovascular (brisk walking, biking, running, swimming, etc..), Flexibility/Balance (pilates, tai chi, stabiity ball etc..)', \n",
    "                                                            'Cardiovascular (brisk walking, biking, running, swimming, etc..), Strength (weight lifting, resistance training, etc..), Flexibility/Balance (pilates, tai chi, stabiity ball etc..)', \n",
    "                                                            'Cardiovascular (brisk walking, biking, running, swimming, etc..)',\n",
    "                                                            'none',\n",
    "                                                            'None',\n",
    "                                                            'Strength (weight lifting, resistance training, etc..)',\n",
    "                                                            'Not really an exercise person',\n",
    "                                                            'Flexibility/Balance (pilates, tai chi, stabiity ball etc..)',\n",
    "                                                            'I do not exercise regularly',\n",
    "                                                            'Taekwondo',\n",
    "                                                            'Strength (weight lifting, resistance training, etc..), Flexibility/Balance (pilates, tai chi, stabiity ball etc..)',\n",
    "                                                            'Walking to and from class typically'],\n",
    "                                                  value=[['cardio strength'],\n",
    "                                                        ['cardio flexibility'],\n",
    "                                                        ['cardio strength flexibility'],\n",
    "                                                        ['cardio'],\n",
    "                                                        ['none'],\n",
    "                                                        ['none'],\n",
    "                                                        ['strength'],\n",
    "                                                        ['none'],\n",
    "                                                        ['flexibility'],\n",
    "                                                        ['none'],\n",
    "                                                        ['flexibility'],\n",
    "                                                        ['strength flexibility'],\n",
    "                                                        ['walking']],\n",
    "                                                  inplace=True)\n",
    "df_roster_firstClean.head()"
   ]
  },
  {
   "cell_type": "code",
   "execution_count": 3,
   "metadata": {},
   "outputs": [
    {
     "data": {
      "text/html": [
       "<div>\n",
       "<style>\n",
       "    .dataframe thead tr:only-child th {\n",
       "        text-align: right;\n",
       "    }\n",
       "\n",
       "    .dataframe thead th {\n",
       "        text-align: left;\n",
       "    }\n",
       "\n",
       "    .dataframe tbody tr th {\n",
       "        vertical-align: top;\n",
       "    }\n",
       "</style>\n",
       "<table border=\"1\" class=\"dataframe\">\n",
       "  <thead>\n",
       "    <tr style=\"text-align: right;\">\n",
       "      <th></th>\n",
       "      <th>year</th>\n",
       "      <th>subjectID</th>\n",
       "      <th>group</th>\n",
       "      <th>Completed_PE_</th>\n",
       "      <th>Age</th>\n",
       "      <th>Gender</th>\n",
       "      <th>How_many_days_do_you_exercise_1</th>\n",
       "      <th>How_many_hrs_do__you_exercise_per_day_1</th>\n",
       "      <th>What_kind_of_exercise_1</th>\n",
       "      <th>stress_last_week_1</th>\n",
       "      <th>...</th>\n",
       "      <th>Quiz_3</th>\n",
       "      <th>Midterm_1</th>\n",
       "      <th>Quiz_4</th>\n",
       "      <th>Quiz_5</th>\n",
       "      <th>Quiz_6</th>\n",
       "      <th>Midterm_2</th>\n",
       "      <th>Quiz_7</th>\n",
       "      <th>Quiz_8</th>\n",
       "      <th>Midterm_3</th>\n",
       "      <th>overall_score</th>\n",
       "    </tr>\n",
       "    <tr>\n",
       "      <th>subjectID</th>\n",
       "      <th></th>\n",
       "      <th></th>\n",
       "      <th></th>\n",
       "      <th></th>\n",
       "      <th></th>\n",
       "      <th></th>\n",
       "      <th></th>\n",
       "      <th></th>\n",
       "      <th></th>\n",
       "      <th></th>\n",
       "      <th></th>\n",
       "      <th></th>\n",
       "      <th></th>\n",
       "      <th></th>\n",
       "      <th></th>\n",
       "      <th></th>\n",
       "      <th></th>\n",
       "      <th></th>\n",
       "      <th></th>\n",
       "      <th></th>\n",
       "      <th></th>\n",
       "    </tr>\n",
       "  </thead>\n",
       "  <tbody>\n",
       "    <tr>\n",
       "      <th>MBL001</th>\n",
       "      <td>1</td>\n",
       "      <td>MBL001</td>\n",
       "      <td>1</td>\n",
       "      <td>-</td>\n",
       "      <td>18.0</td>\n",
       "      <td>Female</td>\n",
       "      <td>3</td>\n",
       "      <td>1.5</td>\n",
       "      <td>cardio strength</td>\n",
       "      <td>low</td>\n",
       "      <td>...</td>\n",
       "      <td>5.5</td>\n",
       "      <td>57.5</td>\n",
       "      <td>8.0</td>\n",
       "      <td>10.0</td>\n",
       "      <td>9.0</td>\n",
       "      <td>85.5</td>\n",
       "      <td>9.5</td>\n",
       "      <td>8.0</td>\n",
       "      <td>79.0</td>\n",
       "      <td>281.5</td>\n",
       "    </tr>\n",
       "    <tr>\n",
       "      <th>MBL002</th>\n",
       "      <td>1</td>\n",
       "      <td>MBL002</td>\n",
       "      <td>1</td>\n",
       "      <td>-</td>\n",
       "      <td>18.0</td>\n",
       "      <td>Female</td>\n",
       "      <td>3</td>\n",
       "      <td>1.0</td>\n",
       "      <td>cardio flexibility</td>\n",
       "      <td>moderate</td>\n",
       "      <td>...</td>\n",
       "      <td>6.5</td>\n",
       "      <td>61.0</td>\n",
       "      <td>7.0</td>\n",
       "      <td>8.5</td>\n",
       "      <td>6.5</td>\n",
       "      <td>91.0</td>\n",
       "      <td>10.0</td>\n",
       "      <td>8.5</td>\n",
       "      <td>68.0</td>\n",
       "      <td>273.0</td>\n",
       "    </tr>\n",
       "    <tr>\n",
       "      <th>MBL003</th>\n",
       "      <td>1</td>\n",
       "      <td>MBL003</td>\n",
       "      <td>1</td>\n",
       "      <td>-</td>\n",
       "      <td>18.0</td>\n",
       "      <td>Female</td>\n",
       "      <td>6</td>\n",
       "      <td>2.0</td>\n",
       "      <td>cardio strength flexibility</td>\n",
       "      <td>moderate</td>\n",
       "      <td>...</td>\n",
       "      <td>8.5</td>\n",
       "      <td>55.5</td>\n",
       "      <td>6.0</td>\n",
       "      <td>8.5</td>\n",
       "      <td>6.5</td>\n",
       "      <td>80.0</td>\n",
       "      <td>5.0</td>\n",
       "      <td>5.0</td>\n",
       "      <td>48.5</td>\n",
       "      <td>229.5</td>\n",
       "    </tr>\n",
       "    <tr>\n",
       "      <th>MBL004</th>\n",
       "      <td>1</td>\n",
       "      <td>MBL004</td>\n",
       "      <td>2</td>\n",
       "      <td>yes</td>\n",
       "      <td>18.0</td>\n",
       "      <td>Female</td>\n",
       "      <td>3</td>\n",
       "      <td>1.5</td>\n",
       "      <td>cardio</td>\n",
       "      <td>low</td>\n",
       "      <td>...</td>\n",
       "      <td>7.5</td>\n",
       "      <td>89.0</td>\n",
       "      <td>6.5</td>\n",
       "      <td>9.0</td>\n",
       "      <td>9.5</td>\n",
       "      <td>70.0</td>\n",
       "      <td>8.0</td>\n",
       "      <td>10.0</td>\n",
       "      <td>71.5</td>\n",
       "      <td>285.5</td>\n",
       "    </tr>\n",
       "    <tr>\n",
       "      <th>MBL005</th>\n",
       "      <td>1</td>\n",
       "      <td>MBL005</td>\n",
       "      <td>2</td>\n",
       "      <td>yes</td>\n",
       "      <td>19.0</td>\n",
       "      <td>Female</td>\n",
       "      <td>3</td>\n",
       "      <td>1.5</td>\n",
       "      <td>cardio strength</td>\n",
       "      <td>moderate</td>\n",
       "      <td>...</td>\n",
       "      <td>7.5</td>\n",
       "      <td>60.5</td>\n",
       "      <td>9.0</td>\n",
       "      <td>8.5</td>\n",
       "      <td>10.0</td>\n",
       "      <td>86.0</td>\n",
       "      <td>5.5</td>\n",
       "      <td>0.0</td>\n",
       "      <td>85.0</td>\n",
       "      <td>281.5</td>\n",
       "    </tr>\n",
       "  </tbody>\n",
       "</table>\n",
       "<p>5 rows × 58 columns</p>\n",
       "</div>"
      ],
      "text/plain": [
       "           year subjectID  group Completed_PE_   Age  Gender  \\\n",
       "subjectID                                                      \n",
       "MBL001        1    MBL001      1             -  18.0  Female   \n",
       "MBL002        1    MBL002      1             -  18.0  Female   \n",
       "MBL003        1    MBL003      1             -  18.0  Female   \n",
       "MBL004        1    MBL004      2           yes  18.0  Female   \n",
       "MBL005        1    MBL005      2           yes  19.0  Female   \n",
       "\n",
       "           How_many_days_do_you_exercise_1  \\\n",
       "subjectID                                    \n",
       "MBL001                                   3   \n",
       "MBL002                                   3   \n",
       "MBL003                                   6   \n",
       "MBL004                                   3   \n",
       "MBL005                                   3   \n",
       "\n",
       "           How_many_hrs_do__you_exercise_per_day_1  \\\n",
       "subjectID                                            \n",
       "MBL001                                         1.5   \n",
       "MBL002                                         1.0   \n",
       "MBL003                                         2.0   \n",
       "MBL004                                         1.5   \n",
       "MBL005                                         1.5   \n",
       "\n",
       "               What_kind_of_exercise_1 stress_last_week_1      ...       \\\n",
       "subjectID                                                      ...        \n",
       "MBL001                 cardio strength                low      ...        \n",
       "MBL002              cardio flexibility           moderate      ...        \n",
       "MBL003     cardio strength flexibility           moderate      ...        \n",
       "MBL004                          cardio                low      ...        \n",
       "MBL005                 cardio strength           moderate      ...        \n",
       "\n",
       "          Quiz_3 Midterm_1 Quiz_4 Quiz_5  Quiz_6 Midterm_2 Quiz_7 Quiz_8  \\\n",
       "subjectID                                                                  \n",
       "MBL001       5.5      57.5    8.0   10.0     9.0      85.5    9.5    8.0   \n",
       "MBL002       6.5      61.0    7.0    8.5     6.5      91.0   10.0    8.5   \n",
       "MBL003       8.5      55.5    6.0    8.5     6.5      80.0    5.0    5.0   \n",
       "MBL004       7.5      89.0    6.5    9.0     9.5      70.0    8.0   10.0   \n",
       "MBL005       7.5      60.5    9.0    8.5    10.0      86.0    5.5    0.0   \n",
       "\n",
       "          Midterm_3 overall_score  \n",
       "subjectID                          \n",
       "MBL001         79.0         281.5  \n",
       "MBL002         68.0         273.0  \n",
       "MBL003         48.5         229.5  \n",
       "MBL004         71.5         285.5  \n",
       "MBL005         85.0         281.5  \n",
       "\n",
       "[5 rows x 58 columns]"
      ]
     },
     "execution_count": 3,
     "metadata": {},
     "output_type": "execute_result"
    }
   ],
   "source": [
    "df_roster = df_roster_firstClean.copy()\n",
    "# Clean up column header = 'How_many_days_do_you_exercise_1'\n",
    "df_roster.How_many_days_do_you_exercise_1.replace(to_replace=['2-4', '5-7', \"I don't regularly exercise\", '1', '7-10', 'I am injured so currently 0, but typically 5-6'],\n",
    "                                                  value=[3, 6, 0, 1, 8, 5],\n",
    "                                                  inplace=True)\n",
    "\n",
    "# Clean up column header = 'How_many_hrs_do__you_exercise_per_day_1'\n",
    "df_roster.How_many_hrs_do__you_exercise_per_day_1.replace(to_replace=['1-2', '<1', '>2'],\n",
    "                                                  value=[1.5, 1, 2],\n",
    "                                                  inplace=True)\n",
    "\n",
    "# Clean up column header = 'sleep_1' (How many hours do you sleep per night?)\n",
    "df_roster.sleep_1.replace(to_replace=['6-7', '5-6', '6-8', '6', '6.5', '7', '8', '7-8', '8-9', '6:47', '8.5', '7.5', '6-9', '5', '5.5', '9', '7-9'],\n",
    "                                                  value=[6.5, 5.5, 7, 6, 6.5, 7, 8, 7.5, 8.5, 'nan', 8.5, 7.5, 7.5, 5, 5.5, 9, 8],\n",
    "                                                  inplace=True)\n",
    "\n",
    "# Clean up column header = 'How_many_days_do_you_exercise_per_week_'\n",
    "df_roster.How_many_days_do_you_exercise_per_week_.replace(to_replace=['2-4', '5-7', \"I don't regularly exercise\", '2', '1'],\n",
    "                                                  value=[3, 6, 0, 2, 1],\n",
    "                                                  inplace=True)\n",
    "\n",
    "# Clean up column header = 'How_many_hours_do_you_exercise_on_a_typical_day_',\n",
    "df_roster.How_many_hours_do_you_exercise_on_a_typical_day_.replace(to_replace=['<1', '1-2', \"I don't regularly exercise\", '>2'],\n",
    "                                                  value=[.5, 1.5, 0, 2],\n",
    "                                                  inplace=True)\n",
    "\n",
    "\n",
    "# Clean up column header = 'caffeine_',\n",
    "df_roster.caffeine_.replace(to_replace=['<1', '1 a day', '2 or more a day', '0', '1 every other day ', 'never'],\n",
    "                                                  value=[.5, 1, 2, 0, .5, 0],\n",
    "                                                  inplace=True)\n",
    "\n",
    "# Changes all the data under the assessements (quizzes and midterms) into floats, instead of objects\n",
    "assessments = [c for c, _ in utils.assessment_dates]\n",
    "df_roster.loc[:, assessments] = df_roster.loc[:, assessments].astype(float)\n",
    "\n",
    "df_roster.head()"
   ]
  },
  {
   "cell_type": "markdown",
   "metadata": {},
   "source": [
    "##### Display the unique values in the column 'What_kind_of_exercise_1' and how many times each occurs"
   ]
  },
  {
   "cell_type": "code",
   "execution_count": 5,
   "metadata": {},
   "outputs": [
    {
     "name": "stdout",
     "output_type": "stream",
     "text": [
      "There are  9 unique values\n",
      "\n",
      "\n",
      "                 Unique Values  Frequency\n",
      "0              cardio strength         38\n",
      "1           cardio flexibility         19\n",
      "2  cardio strength flexibility          8\n",
      "3                       cardio          6\n",
      "4                         none          6\n",
      "5                     strength          5\n",
      "6                  flexibility          2\n",
      "7         strength flexibility          2\n",
      "8                      walking          1\n"
     ]
    }
   ],
   "source": [
    "myTools.disp_uniqueData_inCol(['What_kind_of_exercise_1'], df_roster, these_unique_on=False, times_appear_on=False, uniqueVal_freq_chart=True)"
   ]
  },
  {
   "cell_type": "markdown",
   "metadata": {},
   "source": [
    "### Cleaning df_hr\n",
    "(Removes dates and times in which fitbit was not being worn)"
   ]
  },
  {
   "cell_type": "code",
   "execution_count": null,
   "metadata": {
    "collapsed": true
   },
   "outputs": [],
   "source": [
    "'''Create a new df called 'df_hr' (which will be the \"cleaned up\" version of the dataframe).\n",
    "Only include values for which the confidence rating (of the recorded heart rate) is greater\n",
    "than 0 and where 'bpm' is more than 30.\n",
    "\n",
    "In Summary: This will remove values for which subjects\n",
    "were not wearing the fitbit\n",
    "'''\n",
    "df_hr = df_hr[(df_hr['confidence'] > 0) & (df_hr['bpm'] > 30)]\n",
    "df_hr.head()"
   ]
  },
  {
   "cell_type": "markdown",
   "metadata": {},
   "source": [
    "<a id='part_1'></a>\n",
    "# Part 1"
   ]
  },
  {
   "cell_type": "markdown",
   "metadata": {},
   "source": [
    "## Creating the needed columns for the new dataframe"
   ]
  },
  {
   "cell_type": "markdown",
   "metadata": {
    "collapsed": true
   },
   "source": [
    "### Assessing Avg. Number of VERY_ACTIVE and MODERATELY_ACTIVE periods/day\n",
    "(Will be used to create pd.series that will be columns in df_ancovaData)"
   ]
  },
  {
   "cell_type": "code",
   "execution_count": null,
   "metadata": {
    "collapsed": true
   },
   "outputs": [],
   "source": [
    "activityLevelCounts = df_mult.groupby(['subjectID']).activityLevel.value_counts()\n",
    "\n",
    "# How many days of usage were there per subject according to hr data\n",
    "num_days_of_data_by_hrData = df_hr.groupby('subjectID').date.nunique(dropna=True)\n",
    "# num_days_of_data_by_hrData.sort_values(ascending=True).head()\n",
    "\n",
    "# For each subject, how many times during data collection period were classified as \"VERY_ACTIVE\"?\n",
    "veryActiveCounts = activityLevelCounts.loc[:, 'VERY_ACTIVE']\n",
    "# For each subject, how many times during data collection period were classified as \"MODERATELY_ACTIVE\"?\n",
    "modActiveCounts = activityLevelCounts.loc[:, 'MODERATELY_ACTIVE']\n",
    "\n",
    "# Create pd.series of average number of VERY_ACTIVE and MODERATELY_ACTIVE counts\n",
    "# Find the average number of 'veryActiveCounts' per day (divided by days of available data)\n",
    "veryActiveCounts_divByHr = veryActiveCounts.divide(num_days_of_data_by_hrData)\n",
    "# Find the average number of 'modActiveCounts' per day (divided by days of available data)\n",
    "modActiveCounts_divByHr = modActiveCounts.divide(num_days_of_data_by_hrData)"
   ]
  },
  {
   "cell_type": "markdown",
   "metadata": {},
   "source": [
    "### Creating columns: Mean Sleep, Sleep Quality, Steps/Day, and Active Minutes/Day"
   ]
  },
  {
   "cell_type": "code",
   "execution_count": null,
   "metadata": {
    "collapsed": true
   },
   "outputs": [],
   "source": [
    "# Returns a pd.series of each subjectID and their mean hours of sleep per night\n",
    "series_meanSleep = df_sleep.groupby('subjectID')['sleepDuration'].mean() / 60\n",
    "\n",
    "# Returns a pd.series of each subjectID and their average sleep quality score\n",
    "sleep_Quality = df_sleep.groupby('subjectID').sleepQualityScoreA.mean()\n",
    "\n",
    "# Returns a pd.series of each subjectID and the average number of steps they took per day\n",
    "avgStepsPerDay = df_mult.groupby(['subjectID', 'date']).steps.sum().groupby('subjectID').mean()\n",
    "\n",
    "# Displays average active minutes per day per subject\n",
    "avgActiveMinsPerDay = df_mult.groupby(['subjectID', 'date']).activeMinutes.sum().groupby('subjectID').mean()"
   ]
  },
  {
   "cell_type": "markdown",
   "metadata": {},
   "source": [
    "## Constructing & Exporting the NEW Dataframe (df_ancovaData)"
   ]
  },
  {
   "cell_type": "code",
   "execution_count": null,
   "metadata": {
    "collapsed": true
   },
   "outputs": [],
   "source": [
    "# Create new dataframe to use for ANCOVA\n",
    "df_ancovaData_pt1 = pd.DataFrame()"
   ]
  },
  {
   "cell_type": "code",
   "execution_count": null,
   "metadata": {
    "collapsed": true
   },
   "outputs": [],
   "source": [
    "# Add columns to new dateframe\n",
    "df_ancovaData_pt1['group'] = df_roster['group']\n",
    "df_ancovaData_pt1['gender'] = df_roster['Gender']\n",
    "df_ancovaData_pt1['type_of_exercise'] = df_roster['What_kind_of_exercise_1']\n",
    "df_ancovaData_pt1['overall_score'] = df_roster['overall_score']\n",
    "df_ancovaData_pt1.loc[:,'meanSleep_fb'] = series_meanSleep # fb = FitBit-recorded data\n",
    "df_ancovaData_pt1.loc[:,'sleepQuality_fb'] = sleep_Quality # fb = FitBit-recorded data\n",
    "df_ancovaData_pt1['exercise_hrsDay_sr'] = df_roster['How_many_hrs_do__you_exercise_per_day_1'] # sr = self-reported data\n",
    "df_ancovaData_pt1['exercise_daysWeek_sr'] = df_roster['How_many_days_do_you_exercise_1'] # sr = self-reported data\n",
    "df_ancovaData_pt1.loc[:,'veryActive_fb'] = veryActiveCounts_divByHr # fb = FitBit-recorded data\n",
    "df_ancovaData_pt1.loc[:,'modActive_fb'] = modActiveCounts_divByHr # fb = FitBit-recorded data\n",
    "df_ancovaData_pt1.loc[:,'stepsPerDay_fb'] = avgStepsPerDay # fb = FitBit-recorded data\n",
    "df_ancovaData_pt1.loc[:,'activeMinsPerDay_fb'] = avgActiveMinsPerDay # fb = FitBit-recorded data\n",
    "df_ancovaData_pt1.head()"
   ]
  },
  {
   "cell_type": "code",
   "execution_count": 6,
   "metadata": {},
   "outputs": [
    {
     "data": {
      "text/html": [
       "<div>\n",
       "<style>\n",
       "    .dataframe thead tr:only-child th {\n",
       "        text-align: right;\n",
       "    }\n",
       "\n",
       "    .dataframe thead th {\n",
       "        text-align: left;\n",
       "    }\n",
       "\n",
       "    .dataframe tbody tr th {\n",
       "        vertical-align: top;\n",
       "    }\n",
       "</style>\n",
       "<table border=\"1\" class=\"dataframe\">\n",
       "  <thead>\n",
       "    <tr style=\"text-align: right;\">\n",
       "      <th></th>\n",
       "      <th>year</th>\n",
       "      <th>subjectID</th>\n",
       "      <th>group</th>\n",
       "      <th>Completed_PE_</th>\n",
       "      <th>Age</th>\n",
       "      <th>Gender</th>\n",
       "      <th>How_many_days_do_you_exercise_1</th>\n",
       "      <th>How_many_hrs_do__you_exercise_per_day_1</th>\n",
       "      <th>What_kind_of_exercise_1</th>\n",
       "      <th>stress_last_week_1</th>\n",
       "      <th>...</th>\n",
       "      <th>Quiz_3</th>\n",
       "      <th>Midterm_1</th>\n",
       "      <th>Quiz_4</th>\n",
       "      <th>Quiz_5</th>\n",
       "      <th>Quiz_6</th>\n",
       "      <th>Midterm_2</th>\n",
       "      <th>Quiz_7</th>\n",
       "      <th>Quiz_8</th>\n",
       "      <th>Midterm_3</th>\n",
       "      <th>overall_score</th>\n",
       "    </tr>\n",
       "    <tr>\n",
       "      <th>subjectID</th>\n",
       "      <th></th>\n",
       "      <th></th>\n",
       "      <th></th>\n",
       "      <th></th>\n",
       "      <th></th>\n",
       "      <th></th>\n",
       "      <th></th>\n",
       "      <th></th>\n",
       "      <th></th>\n",
       "      <th></th>\n",
       "      <th></th>\n",
       "      <th></th>\n",
       "      <th></th>\n",
       "      <th></th>\n",
       "      <th></th>\n",
       "      <th></th>\n",
       "      <th></th>\n",
       "      <th></th>\n",
       "      <th></th>\n",
       "      <th></th>\n",
       "      <th></th>\n",
       "    </tr>\n",
       "  </thead>\n",
       "  <tbody>\n",
       "    <tr>\n",
       "      <th>MBL001</th>\n",
       "      <td>1</td>\n",
       "      <td>MBL001</td>\n",
       "      <td>1</td>\n",
       "      <td>-</td>\n",
       "      <td>18.0</td>\n",
       "      <td>Female</td>\n",
       "      <td>3</td>\n",
       "      <td>1.5</td>\n",
       "      <td>cardio strength</td>\n",
       "      <td>low</td>\n",
       "      <td>...</td>\n",
       "      <td>5.5</td>\n",
       "      <td>57.5</td>\n",
       "      <td>8.0</td>\n",
       "      <td>10.0</td>\n",
       "      <td>9.0</td>\n",
       "      <td>85.5</td>\n",
       "      <td>9.5</td>\n",
       "      <td>8.0</td>\n",
       "      <td>79.0</td>\n",
       "      <td>281.5</td>\n",
       "    </tr>\n",
       "    <tr>\n",
       "      <th>MBL002</th>\n",
       "      <td>1</td>\n",
       "      <td>MBL002</td>\n",
       "      <td>1</td>\n",
       "      <td>-</td>\n",
       "      <td>18.0</td>\n",
       "      <td>Female</td>\n",
       "      <td>3</td>\n",
       "      <td>1.0</td>\n",
       "      <td>cardio flexibility</td>\n",
       "      <td>moderate</td>\n",
       "      <td>...</td>\n",
       "      <td>6.5</td>\n",
       "      <td>61.0</td>\n",
       "      <td>7.0</td>\n",
       "      <td>8.5</td>\n",
       "      <td>6.5</td>\n",
       "      <td>91.0</td>\n",
       "      <td>10.0</td>\n",
       "      <td>8.5</td>\n",
       "      <td>68.0</td>\n",
       "      <td>273.0</td>\n",
       "    </tr>\n",
       "    <tr>\n",
       "      <th>MBL003</th>\n",
       "      <td>1</td>\n",
       "      <td>MBL003</td>\n",
       "      <td>1</td>\n",
       "      <td>-</td>\n",
       "      <td>18.0</td>\n",
       "      <td>Female</td>\n",
       "      <td>6</td>\n",
       "      <td>2.0</td>\n",
       "      <td>cardio strength flexibility</td>\n",
       "      <td>moderate</td>\n",
       "      <td>...</td>\n",
       "      <td>8.5</td>\n",
       "      <td>55.5</td>\n",
       "      <td>6.0</td>\n",
       "      <td>8.5</td>\n",
       "      <td>6.5</td>\n",
       "      <td>80.0</td>\n",
       "      <td>5.0</td>\n",
       "      <td>5.0</td>\n",
       "      <td>48.5</td>\n",
       "      <td>229.5</td>\n",
       "    </tr>\n",
       "    <tr>\n",
       "      <th>MBL004</th>\n",
       "      <td>1</td>\n",
       "      <td>MBL004</td>\n",
       "      <td>2</td>\n",
       "      <td>yes</td>\n",
       "      <td>18.0</td>\n",
       "      <td>Female</td>\n",
       "      <td>3</td>\n",
       "      <td>1.5</td>\n",
       "      <td>cardio</td>\n",
       "      <td>low</td>\n",
       "      <td>...</td>\n",
       "      <td>7.5</td>\n",
       "      <td>89.0</td>\n",
       "      <td>6.5</td>\n",
       "      <td>9.0</td>\n",
       "      <td>9.5</td>\n",
       "      <td>70.0</td>\n",
       "      <td>8.0</td>\n",
       "      <td>10.0</td>\n",
       "      <td>71.5</td>\n",
       "      <td>285.5</td>\n",
       "    </tr>\n",
       "    <tr>\n",
       "      <th>MBL005</th>\n",
       "      <td>1</td>\n",
       "      <td>MBL005</td>\n",
       "      <td>2</td>\n",
       "      <td>yes</td>\n",
       "      <td>19.0</td>\n",
       "      <td>Female</td>\n",
       "      <td>3</td>\n",
       "      <td>1.5</td>\n",
       "      <td>cardio strength</td>\n",
       "      <td>moderate</td>\n",
       "      <td>...</td>\n",
       "      <td>7.5</td>\n",
       "      <td>60.5</td>\n",
       "      <td>9.0</td>\n",
       "      <td>8.5</td>\n",
       "      <td>10.0</td>\n",
       "      <td>86.0</td>\n",
       "      <td>5.5</td>\n",
       "      <td>0.0</td>\n",
       "      <td>85.0</td>\n",
       "      <td>281.5</td>\n",
       "    </tr>\n",
       "  </tbody>\n",
       "</table>\n",
       "<p>5 rows × 58 columns</p>\n",
       "</div>"
      ],
      "text/plain": [
       "           year subjectID  group Completed_PE_   Age  Gender  \\\n",
       "subjectID                                                      \n",
       "MBL001        1    MBL001      1             -  18.0  Female   \n",
       "MBL002        1    MBL002      1             -  18.0  Female   \n",
       "MBL003        1    MBL003      1             -  18.0  Female   \n",
       "MBL004        1    MBL004      2           yes  18.0  Female   \n",
       "MBL005        1    MBL005      2           yes  19.0  Female   \n",
       "\n",
       "           How_many_days_do_you_exercise_1  \\\n",
       "subjectID                                    \n",
       "MBL001                                   3   \n",
       "MBL002                                   3   \n",
       "MBL003                                   6   \n",
       "MBL004                                   3   \n",
       "MBL005                                   3   \n",
       "\n",
       "           How_many_hrs_do__you_exercise_per_day_1  \\\n",
       "subjectID                                            \n",
       "MBL001                                         1.5   \n",
       "MBL002                                         1.0   \n",
       "MBL003                                         2.0   \n",
       "MBL004                                         1.5   \n",
       "MBL005                                         1.5   \n",
       "\n",
       "               What_kind_of_exercise_1 stress_last_week_1      ...       \\\n",
       "subjectID                                                      ...        \n",
       "MBL001                 cardio strength                low      ...        \n",
       "MBL002              cardio flexibility           moderate      ...        \n",
       "MBL003     cardio strength flexibility           moderate      ...        \n",
       "MBL004                          cardio                low      ...        \n",
       "MBL005                 cardio strength           moderate      ...        \n",
       "\n",
       "          Quiz_3 Midterm_1 Quiz_4 Quiz_5  Quiz_6 Midterm_2 Quiz_7 Quiz_8  \\\n",
       "subjectID                                                                  \n",
       "MBL001       5.5      57.5    8.0   10.0     9.0      85.5    9.5    8.0   \n",
       "MBL002       6.5      61.0    7.0    8.5     6.5      91.0   10.0    8.5   \n",
       "MBL003       8.5      55.5    6.0    8.5     6.5      80.0    5.0    5.0   \n",
       "MBL004       7.5      89.0    6.5    9.0     9.5      70.0    8.0   10.0   \n",
       "MBL005       7.5      60.5    9.0    8.5    10.0      86.0    5.5    0.0   \n",
       "\n",
       "          Midterm_3 overall_score  \n",
       "subjectID                          \n",
       "MBL001         79.0         281.5  \n",
       "MBL002         68.0         273.0  \n",
       "MBL003         48.5         229.5  \n",
       "MBL004         71.5         285.5  \n",
       "MBL005         85.0         281.5  \n",
       "\n",
       "[5 rows x 58 columns]"
      ]
     },
     "execution_count": 6,
     "metadata": {},
     "output_type": "execute_result"
    }
   ],
   "source": [
    "df_roster.head()"
   ]
  },
  {
   "cell_type": "code",
   "execution_count": null,
   "metadata": {
    "collapsed": true
   },
   "outputs": [],
   "source": [
    "df_ancovaData_pt1.loc[:,'modPlusVeryActive_fb'] = veryActiveCounts_divByHr + modActiveCounts_divByHr # fb = FitBit-recorded data"
   ]
  },
  {
   "cell_type": "code",
   "execution_count": null,
   "metadata": {
    "collapsed": true
   },
   "outputs": [],
   "source": [
    "# Export dataframe to csv file\n",
    "df_ancovaData_pt1.to_csv(path_or_buf = 'ancovaData_pt1.csv')"
   ]
  },
  {
   "cell_type": "markdown",
   "metadata": {},
   "source": [
    "<a id='part_2'></a>\n",
    "# Part 2"
   ]
  },
  {
   "cell_type": "markdown",
   "metadata": {},
   "source": [
    "### Define relative dates (the week before/leading upto) each assessment"
   ]
  },
  {
   "cell_type": "code",
   "execution_count": null,
   "metadata": {
    "collapsed": true
   },
   "outputs": [],
   "source": [
    "relevant_dates = [('Quiz_1', '2016-09-07', '2016-09-15'),\n",
    "                  ('Quiz_2', '2016-09-16', '2016-09-22'),\n",
    "                  ('Quiz_3', '2016-09-23', '2016-09-29'),\n",
    "                  ('Midterm_1', '2016-09-07', '2016-10-05'),\n",
    "                  ('Quiz_4', '2016-10-06', '2016-10-13'),\n",
    "                  ('Quiz_5', '2016-10-14', '2016-10-21'),\n",
    "                  ('Quiz_6', '2016-10-22', '2016-10-28'),\n",
    "                  ('Midterm_2', '2016-10-06', '2016-11-02'),\n",
    "                  ('Quiz_7', '2016-11-03', '2016-11-10'),\n",
    "                  ('Quiz_8', '2016-11-16', '2016-11-24'),\n",
    "                  ('Midterm_3', '2016-11-03', '2016-11-30')]"
   ]
  },
  {
   "cell_type": "code",
   "execution_count": null,
   "metadata": {
    "collapsed": true
   },
   "outputs": [],
   "source": [
    "# Do not need anymore\n",
    "# Returns a pd.series of each subjectID and their mean hours of \"relevant sleep\"/night during exam period of interest\n",
    "\n",
    "# df_sleep_Quiz_1 = df_sleep.loc['2016-09-07': '2016-09-15', :]\n",
    "# series_meanSleep_pt2_Quiz_1 = df_sleep_Quiz_1.groupby('subjectID')['sleepDuration'].mean() / 60"
   ]
  },
  {
   "cell_type": "code",
   "execution_count": null,
   "metadata": {
    "collapsed": true
   },
   "outputs": [],
   "source": [
    "# NEED TO REMOVE\n",
    "# def relevant_meanSleep():\n",
    "#     for assessment, start, end in assessment_content:\n",
    "#         new_df_name = df_sleep_+ str(assessment) # Assign new df name\n",
    "#         new_df_name = df_sleep.loc[start : end, :]\n",
    "        \n",
    "#         new_series = series_meanSleep_pt2_ + str(assessment) # Assign new series name\n",
    "#         new_series = new_df_name.groupby('subjectID')['sleepDuration'].mean() / 60\n",
    "        \n",
    "#         # Add to new df\n",
    "        \n",
    "# relevant_meanSleep()"
   ]
  },
  {
   "cell_type": "markdown",
   "metadata": {},
   "source": [
    "### Create new DataFrame & add new columns"
   ]
  },
  {
   "cell_type": "code",
   "execution_count": null,
   "metadata": {
    "collapsed": true
   },
   "outputs": [],
   "source": [
    "# Create new dataframe to use for ANCOVA pt2\n",
    "df_ancovaData_pt2 = pd.DataFrame()"
   ]
  },
  {
   "cell_type": "code",
   "execution_count": null,
   "metadata": {
    "collapsed": true
   },
   "outputs": [],
   "source": [
    "# Create new columns in df_ancovaData_pt2 for each exam score\n",
    "df_ancovaData_pt2['overall_score'] = df_roster['overall_score'] # Add overall score\n",
    "\n",
    "for assessment, start, end in relevant_dates: # Add scores for all other exams\n",
    "    df_ancovaData_pt2[str(assessment)] = df_roster[assessment]"
   ]
  },
  {
   "cell_type": "code",
   "execution_count": null,
   "metadata": {
    "collapsed": true
   },
   "outputs": [],
   "source": [
    "# Create new columns in df_ancovaData_pt2 for meanSleep within relevant dates for each exam\n",
    "def _relevant_meanSleep(df, start, end):\n",
    "    subset = df.loc[start : end, :] # Only include the relevant dates in the DataFrame\n",
    "    return subset.groupby('subjectID')['sleepDuration'].mean() / 60\n",
    "\n",
    "for assessment, start, end in relevant_dates:\n",
    "    output = _relevant_meanSleep(df_sleep, start, end)\n",
    "    colname = \"meanSleep_{}\".format(assessment)\n",
    "    df_ancovaData_pt2.loc[:, colname] = output\n",
    "    \n",
    "df_ancovaData_pt2.loc[:, 'meanSleep_Quiz_1' :].head(20)\n",
    "\n",
    "# Another potential method\n",
    "# pd.concat([_relevant_meanSleep(df_sleep, start, end) for _, start, end in relevant_dates], axis=1)"
   ]
  },
  {
   "cell_type": "code",
   "execution_count": null,
   "metadata": {
    "collapsed": true
   },
   "outputs": [],
   "source": [
    "# #TEMP\n",
    "df_roster.loc[df_roster['subjectID'] == 'MBL055', 'Quiz_1' :]"
   ]
  },
  {
   "cell_type": "code",
   "execution_count": null,
   "metadata": {
    "collapsed": true
   },
   "outputs": [],
   "source": [
    "#TEMP\n",
    "df_hr_temp = df_hr.set_index('subjectID')\n",
    "\n",
    "df_hr_temp.loc['MBL008', :]"
   ]
  },
  {
   "cell_type": "code",
   "execution_count": null,
   "metadata": {
    "collapsed": true
   },
   "outputs": [],
   "source": [
    "# Create new columns in df_ancovaData_pt2 for sleepQuality within relevant dates for each exam\n",
    "def _relevant_sleepQuality(df, start, end):\n",
    "    subset = df.loc[start : end, :] # Only include the relevant dates in the DataFrame\n",
    "    return subset.groupby('subjectID').sleepQualityScoreA.mean()\n",
    "\n",
    "for assessment, start, end in relevant_dates:\n",
    "    output = _relevant_sleepQuality(df_sleep, start, end)\n",
    "    colname = \"sleepQuality_{}\".format(assessment)\n",
    "    df_ancovaData_pt2.loc[:, colname] = output\n",
    "    \n",
    "df_ancovaData_pt2.head()"
   ]
  },
  {
   "cell_type": "code",
   "execution_count": null,
   "metadata": {
    "collapsed": true
   },
   "outputs": [],
   "source": [
    "# Reindex df_mult so that date is used as the index\n",
    "df_mult_reindex = df_mult.set_index('dateTime')\n",
    "df_mult_reindex.head()\n",
    "\n",
    "# Question: Why does setting 'date' instead of 'dateTime' as the index cause problems later?"
   ]
  },
  {
   "cell_type": "code",
   "execution_count": null,
   "metadata": {
    "collapsed": true
   },
   "outputs": [],
   "source": [
    "# Create new columns in df_ancovaData_pt2 for avgStepsPerDay within relevant dates for each exam\n",
    "def _relevant_avgStepsPerDay(df, start, end):\n",
    "    subset = df.loc[start : end, :] # Only include the relevant dates in the DataFrame\n",
    "    return subset.groupby(['subjectID', 'date']).steps.sum().groupby('subjectID').mean()\n",
    "\n",
    "for assessment, start, end in relevant_dates:\n",
    "    output = _relevant_avgStepsPerDay(df_mult_reindex, start, end)\n",
    "    colname = \"avgStepsPerDay_{}\".format(assessment)\n",
    "    df_ancovaData_pt2.loc[:, colname] = output\n",
    "    \n",
    "df_ancovaData_pt2.head()"
   ]
  },
  {
   "cell_type": "code",
   "execution_count": null,
   "metadata": {
    "collapsed": true
   },
   "outputs": [],
   "source": [
    "# Create new columns in df_ancovaData_pt2 for avgActiveMinsPerDay within relevant dates for each exam\n",
    "def _relevant_avgActiveMinsPerDay(df, start, end):\n",
    "    subset = df.loc[start : end, :] # Only include the relevant dates in the DataFrame\n",
    "    return subset.groupby(['subjectID', 'date']).activeMinutes.sum().groupby('subjectID').mean()\n",
    "\n",
    "for assessment, start, end in relevant_dates:\n",
    "    output = _relevant_avgActiveMinsPerDay(df_mult_reindex, start, end)\n",
    "    colname = \"avgActiveMinsPerDay_{}\".format(assessment)\n",
    "    df_ancovaData_pt2.loc[:, colname] = output\n",
    "    \n",
    "df_ancovaData_pt2.head()"
   ]
  },
  {
   "cell_type": "code",
   "execution_count": null,
   "metadata": {
    "collapsed": true
   },
   "outputs": [],
   "source": [
    "# Reindex df_hr using 'dateTime'\n",
    "df_hr_reindex = df_hr.set_index('dateTime')"
   ]
  },
  {
   "cell_type": "markdown",
   "metadata": {},
   "source": [
    "#### Create new columns for VERY_ACTIVE counts"
   ]
  },
  {
   "cell_type": "code",
   "execution_count": null,
   "metadata": {
    "collapsed": true
   },
   "outputs": [],
   "source": [
    "# Create new columns in df_ancovaData_pt2 for veryActiveCounts within relevant dates for each exam\n",
    "def _relevant_veryActiveCounts(df1, df2, start, end):\n",
    "    \n",
    "    subset1 = df1.loc[start : end, :] # Only include the relevant dates in the DataFrame\n",
    "    activityLevelCounts_subset = subset1.groupby(['subjectID']).activityLevel.value_counts()\n",
    "    # print(activityLevelCounts_subset)\n",
    "    \n",
    "    subset2 = df2.loc[start : end, :] # Only include the relevant dates in the DataFrame\n",
    "    num_days_of_data_by_hrData_subset = subset2.groupby('subjectID').date.nunique(dropna=True) # Days of FitBit Usage\n",
    "    # print (num_days_of_data_by_hrData_subset)\n",
    "    \n",
    "    # For each subject, how many times during data collection period were classified as \"VERY_ACTIVE\"?\n",
    "    veryActiveCounts_subset = activityLevelCounts_subset.loc[:, 'VERY_ACTIVE']\n",
    "    # print (veryActiveCounts_subset)\n",
    "    \n",
    "    # Find the average number of 'veryActiveCounts' per day (divided by days of available data)\n",
    "    veryActiveCounts_divByHr_subset = veryActiveCounts_subset.divide(num_days_of_data_by_hrData_subset)\n",
    "    #If VERY_ACTIVE counts is 0, this line makes it say 0, instead of NaN\n",
    "    veryActiveCounts_divByHr_subset.loc[veryActiveCounts_divByHr_subset.isnull()] = 0\n",
    "    return veryActiveCounts_divByHr_subset\n",
    "    \n",
    "for assessment, start, end in relevant_dates:\n",
    "    output = _relevant_veryActiveCounts(df_mult_reindex, df_hr_reindex, start, end)\n",
    "    colname = \"veryActiveCounts_{}\".format(assessment)\n",
    "    df_ancovaData_pt2.loc[:, colname] = output\n",
    "    \n",
    "df_ancovaData_pt2.head()"
   ]
  },
  {
   "cell_type": "markdown",
   "metadata": {},
   "source": [
    "#### Create new columns for MODERATELY_ACTIVE counts"
   ]
  },
  {
   "cell_type": "code",
   "execution_count": null,
   "metadata": {
    "collapsed": true
   },
   "outputs": [],
   "source": [
    "# Create new columns in df_ancovaData_pt2 for modActiveCounts within relevant dates for each exam\n",
    "def _relevant_modActiveCounts(df1, df2, start, end):\n",
    "    \n",
    "    subset1 = df1.loc[start : end, :] # Only include the relevant dates in the DataFrame\n",
    "    activityLevelCounts_subset = subset1.groupby(['subjectID']).activityLevel.value_counts()\n",
    "    # print(activityLevelCounts_subset)\n",
    "    \n",
    "    subset2 = df2.loc[start : end, :] # Only include the relevant dates in the DataFrame\n",
    "    num_days_of_data_by_hrData_subset = subset2.groupby('subjectID').date.nunique(dropna=True) # Days of FitBit Usage\n",
    "    # print (num_days_of_data_by_hrData_subset)\n",
    "    \n",
    "    # For each subject, how many times during data collection period were classified as \"MODERATELY_ACTIVE\"?\n",
    "    modActiveCounts_subset = activityLevelCounts_subset.loc[:, 'MODERATELY_ACTIVE']\n",
    "    # print (modActiveCounts_subset)\n",
    "    \n",
    "    # Find the average number of 'modActiveCounts' per day (divided by days of available data)\n",
    "    modActiveCounts_divByHr_subset = modActiveCounts_subset.divide(num_days_of_data_by_hrData_subset)\n",
    "    #If MODERATELY_ACTIVE counts is 0, this line makes it say 0, instead of NaN\n",
    "    modActiveCounts_divByHr_subset.loc[modActiveCounts_divByHr_subset.isnull()] = 0\n",
    "    return modActiveCounts_divByHr_subset\n",
    "    \n",
    "for assessment, start, end in relevant_dates:\n",
    "    output = _relevant_modActiveCounts(df_mult_reindex, df_hr_reindex, start, end)\n",
    "    colname = \"modActiveCounts_{}\".format(assessment)\n",
    "    df_ancovaData_pt2.loc[:, colname] = output\n",
    "    \n",
    "# df_ancovaData_pt2.loc[:, 'modActiveCounts_Quiz_1' :].head(10)"
   ]
  },
  {
   "cell_type": "code",
   "execution_count": null,
   "metadata": {
    "collapsed": true
   },
   "outputs": [],
   "source": [
    "df_ancovaData_pt2.head()"
   ]
  },
  {
   "cell_type": "code",
   "execution_count": null,
   "metadata": {
    "collapsed": true
   },
   "outputs": [],
   "source": [
    "# Export dataframe to csv file\n",
    "df_ancovaData_pt2.to_csv(path_or_buf = 'ancovaData_pt2.csv')"
   ]
  },
  {
   "cell_type": "markdown",
   "metadata": {},
   "source": [
    "<a id='part_3'></a>\n",
    "# Part 3: Group 1 & 2 Differences (T-Tests)"
   ]
  },
  {
   "cell_type": "markdown",
   "metadata": {},
   "source": [
    "### Define new function to perform T-Test"
   ]
  },
  {
   "cell_type": "code",
   "execution_count": null,
   "metadata": {
    "collapsed": true
   },
   "outputs": [],
   "source": [
    "def print_ind_ttest(df, column, group_a, group_b, y_col):\n",
    "    \"\"\"Print results of two-sample ind. t-test between two groups on y_col.\"\"\"\n",
    "    from scipy.stats import ttest_ind\n",
    "\n",
    "    series_a = df.loc[df[column]==group_a, y_col]\n",
    "    series_b = df.loc[df[column]==group_b, y_col]\n",
    "    # y_col makes sure the rows that are returned only contain the data from the column you want (not the whole row)\n",
    "    t_test = ttest_ind(series_a, series_b, nan_policy='omit')\n",
    "\n",
    "    asterisk = \" *\" if t_test.pvalue < 0.05 else \"\" # an astrisk will indicate significant difference\n",
    "    out = \"{}{}\\n\".format(y_col.upper(), asterisk)\n",
    "    out += (\"p = {:.3f}, T = {:.2f}\".format(t_test.pvalue, t_test.statistic))\n",
    "    out += (\"\\n\\t{}\\t{}\\nN\\t{}\\t{}\\nMean\\t{:.2f}\\t{:.2f}\"\n",
    "            \"\".format(group_a, group_b, len(series_a), len(series_b),\n",
    "                      series_a.mean(), series_b.mean()))\n",
    "for assessment, start, end in assessment_content:\n",
    "    print(start, end)    print(out)"
   ]
  },
  {
   "cell_type": "markdown",
   "metadata": {},
   "source": [
    "### Class Grades (T-Test Between Groups 1 and 2)"
   ]
  },
  {
   "cell_type": "code",
   "execution_count": null,
   "metadata": {
    "collapsed": true
   },
   "outputs": [],
   "source": [
    "print(\"T-tests comparing assessment scores by group\\n\")\n",
    "for assessment, _, _ in relevant_dates: # The underscore is used as a throwaway variable (which was 'dates' here)\n",
    "    print_ind_ttest(df_roster, \"group\", 1, 2, assessment)\n",
    "    print()"
   ]
  },
  {
   "cell_type": "markdown",
   "metadata": {},
   "source": [
    "### Various Measures of Exersice and Sleep (T-Test Between Groups 1 and 2)"
   ]
  },
  {
   "cell_type": "code",
   "execution_count": null,
   "metadata": {
    "collapsed": true
   },
   "outputs": [],
   "source": [
    "VariablesForTTest = ('meanSleep_fb',\n",
    "                     'sleepQuality_fb',\n",
    "                     'exercise_hrsDay_sr',\n",
    "                     'exercise_daysWeek_sr',\n",
    "                     'veryActive_fb',\n",
    "                     'modActive_fb',\n",
    "                     'stepsPerDay_fb',\n",
    "                     'activeMinsPerDay_fb',\n",
    "                     'modPlusVeryActive_fb'\n",
    "                    )\n",
    "\n",
    "print(\"T-tests comparing various variables scores by group\\n\")\n",
    "for variableOfInterest in VariablesForTTest: # The underscore is used as a throwaway variable (which was 'dates' here)\n",
    "    print_ind_ttest(df_ancovaData_pt1, \"group\", 1, 2, variableOfInterest)\n",
    "    print()"
   ]
  },
  {
   "cell_type": "markdown",
   "metadata": {},
   "source": [
    "<a id='part_4'></a>\n",
    "# Part 4: Gender Differences Differences (T-Tests)"
   ]
  },
  {
   "cell_type": "markdown",
   "metadata": {},
   "source": [
    "### Class Grades (T-Test Between Genders)"
   ]
  },
  {
   "cell_type": "code",
   "execution_count": null,
   "metadata": {
    "collapsed": true
   },
   "outputs": [],
   "source": [
    "print(\"T-tests comparing assessment scores by gender\\n\")\n",
    "for assessment, _, _ in relevant_dates: # The underscore is used as a throwaway variable (which was 'dates' here)\n",
    "    print_ind_ttest(df_roster, \"Gender\", \"Female\", \"Male\", assessment)\n",
    "    print()"
   ]
  },
  {
   "cell_type": "markdown",
   "metadata": {},
   "source": [
    "### Various Measures of Exersice and Sleep (T-Test Between Genders)"
   ]
  },
  {
   "cell_type": "code",
   "execution_count": null,
   "metadata": {
    "collapsed": true
   },
   "outputs": [],
   "source": [
    "VariablesForTTest = ('meanSleep_fb',\n",
    "                     'sleepQuality_fb',\n",
    "                     'exercise_hrsDay_sr',\n",
    "                     'exercise_daysWeek_sr',\n",
    "                     'veryActive_fb',\n",
    "                     'modActive_fb',\n",
    "                     'stepsPerDay_fb',\n",
    "                     'activeMinsPerDay_fb',\n",
    "                     'modPlusVeryActive_fb'\n",
    "                    )\n",
    "\n",
    "print(\"T-tests comparing various variables scores by gender\\n\")\n",
    "for variableOfInterest in VariablesForTTest: # The underscore is used as a throwaway variable (which was 'dates' here)\n",
    "    print_ind_ttest(df_ancovaData_pt1, \"gender\", \"Female\", \"Male\", variableOfInterest)\n",
    "    print()"
   ]
  },
  {
   "cell_type": "code",
   "execution_count": null,
   "metadata": {
    "collapsed": true
   },
   "outputs": [],
   "source": []
  },
  {
   "cell_type": "code",
   "execution_count": null,
   "metadata": {
    "collapsed": true
   },
   "outputs": [],
   "source": []
  },
  {
   "cell_type": "markdown",
   "metadata": {},
   "source": [
    "# Extra Things: Still in Progress"
   ]
  },
  {
   "cell_type": "code",
   "execution_count": null,
   "metadata": {
    "collapsed": true
   },
   "outputs": [],
   "source": []
  },
  {
   "cell_type": "code",
   "execution_count": null,
   "metadata": {
    "collapsed": true
   },
   "outputs": [],
   "source": []
  },
  {
   "cell_type": "code",
   "execution_count": null,
   "metadata": {
    "collapsed": true
   },
   "outputs": [],
   "source": []
  },
  {
   "cell_type": "code",
   "execution_count": null,
   "metadata": {
    "collapsed": true
   },
   "outputs": [],
   "source": []
  },
  {
   "cell_type": "code",
   "execution_count": null,
   "metadata": {
    "collapsed": true
   },
   "outputs": [],
   "source": []
  },
  {
   "cell_type": "code",
   "execution_count": null,
   "metadata": {
    "collapsed": true
   },
   "outputs": [],
   "source": []
  }
 ],
 "metadata": {
  "kernelspec": {
   "display_name": "Python 3",
   "language": "python",
   "name": "python3"
  },
  "language_info": {
   "codemirror_mode": {
    "name": "ipython",
    "version": 3
   },
   "file_extension": ".py",
   "mimetype": "text/x-python",
   "name": "python",
   "nbconvert_exporter": "python",
   "pygments_lexer": "ipython3",
   "version": "3.6.1"
  }
 },
 "nbformat": 4,
 "nbformat_minor": 2
}
